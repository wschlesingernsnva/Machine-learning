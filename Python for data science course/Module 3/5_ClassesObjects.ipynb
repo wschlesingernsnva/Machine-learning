{
 "cells": [
  {
   "cell_type": "markdown",
   "metadata": {},
   "source": [
    "5: Classes and Objects in Python"
   ]
  },
  {
   "cell_type": "code",
   "execution_count": 1,
   "metadata": {},
   "outputs": [],
   "source": [
    "import matplotlib.pyplot as plt\n",
    "%matplotlib inline"
   ]
  },
  {
   "cell_type": "code",
   "execution_count": 6,
   "metadata": {},
   "outputs": [],
   "source": [
    "class Vehicle:\n",
    "    color = \"white\"\n",
    "\n",
    "    def __init__(self, maxSpeed, mileage):\n",
    "        self.maxSpeed = maxSpeed\n",
    "        self.mileage = mileage\n",
    "    \n",
    "    def assignSeatingCapacity(self, seatingCapacity: int):\n",
    "        self.seatingCapacity = seatingCapacity\n",
    "    \n",
    "    def displayProperties(self):\n",
    "        print(f'Color: {self.color}')\n",
    "        print(f'Max speed: {self.maxSpeed}kmph')\n",
    "        print(f'Mileage: {self.mileage}kmpl')\n",
    "        print(f'{self.seatingCapacity} seats')"
   ]
  },
  {
   "cell_type": "code",
   "execution_count": 7,
   "metadata": {},
   "outputs": [
    {
     "name": "stdout",
     "output_type": "stream",
     "text": [
      "Color: white\n",
      "Max speed: 200kmph\n",
      "Mileage: 20kmpl\n",
      "5 seats\n",
      "\n",
      "Color: white\n",
      "Max speed: 180kmph\n",
      "Mileage: 25kmpl\n",
      "4 seats\n"
     ]
    }
   ],
   "source": [
    "firstVehicle = Vehicle(200, 20)\n",
    "firstVehicle.assignSeatingCapacity(5)\n",
    "\n",
    "secondVehicle = Vehicle(180, 25)\n",
    "secondVehicle.assignSeatingCapacity(4)\n",
    "\n",
    "firstVehicle.displayProperties()\n",
    "print()\n",
    "secondVehicle.displayProperties()"
   ]
  }
 ],
 "metadata": {
  "kernelspec": {
   "display_name": "Python 3",
   "language": "python",
   "name": "python3"
  },
  "language_info": {
   "codemirror_mode": {
    "name": "ipython",
    "version": 3
   },
   "file_extension": ".py",
   "mimetype": "text/x-python",
   "name": "python",
   "nbconvert_exporter": "python",
   "pygments_lexer": "ipython3",
   "version": "3.12.2"
  }
 },
 "nbformat": 4,
 "nbformat_minor": 2
}

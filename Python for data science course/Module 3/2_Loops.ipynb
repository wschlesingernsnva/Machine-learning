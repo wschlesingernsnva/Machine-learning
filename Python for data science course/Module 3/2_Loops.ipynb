{
 "cells": [
  {
   "cell_type": "markdown",
   "metadata": {},
   "source": [
    "2: Loops"
   ]
  },
  {
   "cell_type": "code",
   "execution_count": 17,
   "metadata": {},
   "outputs": [
    {
     "name": "stdout",
     "output_type": "stream",
     "text": [
      "-4\n",
      "-3\n",
      "-2\n",
      "-1\n",
      "0\n",
      "1\n",
      "2\n",
      "3\n",
      "4\n"
     ]
    }
   ],
   "source": [
    "for number in range(-4,5):\n",
    "    print(number)"
   ]
  },
  {
   "cell_type": "code",
   "execution_count": 18,
   "metadata": {},
   "outputs": [
    {
     "name": "stdout",
     "output_type": "stream",
     "text": [
      "rock\n",
      "R&B\n",
      "soundtrack\n",
      "R&B\n",
      "soul\n",
      "pop\n"
     ]
    }
   ],
   "source": [
    "genres = [\"rock\", \"R&B\", \"soundtrack\", \"R&B\", \"soul\", \"pop\"]\n",
    "for thisGenre in genres:\n",
    "    print(thisGenre)"
   ]
  },
  {
   "cell_type": "code",
   "execution_count": 19,
   "metadata": {},
   "outputs": [
    {
     "name": "stdout",
     "output_type": "stream",
     "text": [
      "red\n",
      "yellow\n",
      "green\n",
      "purple\n",
      "blue\n"
     ]
    }
   ],
   "source": [
    "squares = [\"red\", \"yellow\", \"green\", \"purple\", \"blue\"]\n",
    "for thisSquare in squares:\n",
    "    print(thisSquare)"
   ]
  },
  {
   "cell_type": "code",
   "execution_count": 20,
   "metadata": {},
   "outputs": [
    {
     "name": "stdout",
     "output_type": "stream",
     "text": [
      "10\n",
      "9.5\n",
      "10\n",
      "8\n",
      "7.5\n"
     ]
    }
   ],
   "source": [
    "# their solution, in attempting to optimize, seems as though it would actually\n",
    "# ruin the whole point of checking that playlistIndex < len(playlistRatings)\n",
    "# because it sets the rating variable at the end of the while loop, meaning it\n",
    "# would overflow anyway--so the tiny bit of inefficiency here with the\n",
    "# repeated playlistRatings[playlistIndex] is necessary (due to the unfortunate\n",
    "# syntax of while loops not allowing a variable to be declared where the condition is)\n",
    "# this is also one of the many reasons you don't do this with a while loop\n",
    "# anyway\n",
    "\n",
    "playlistRatings = [10, 9.5, 10, 8, 7.5, 5, 10, 10]\n",
    "playlistIndex = 0\n",
    "while playlistIndex < len(playlistRatings) and playlistRatings[playlistIndex] >= 6:\n",
    "    print(playlistRatings[playlistIndex])\n",
    "    playlistIndex += 1"
   ]
  },
  {
   "cell_type": "code",
   "execution_count": 29,
   "metadata": {},
   "outputs": [
    {
     "name": "stdout",
     "output_type": "stream",
     "text": [
      "['orange', 'orange']\n"
     ]
    }
   ],
   "source": [
    "del(squares) # since they reused the variable name\n",
    "\n",
    "squares = [\"orange\", \"orange\", \"purple\", \"blue\", \"orange\"]\n",
    "newSquares = []\n",
    "\n",
    "squareIndex = 0\n",
    "while squareIndex < len(squares) and squares[squareIndex] == \"orange\":\n",
    "    newSquares.append(squares[squareIndex])\n",
    "    squareIndex += 1\n",
    "\n",
    "print(newSquares)"
   ]
  },
  {
   "cell_type": "code",
   "execution_count": 39,
   "metadata": {},
   "outputs": [
    {
     "name": "stdout",
     "output_type": "stream",
     "text": [
      "1\t2\t3\t4\t5\t6\t\n",
      "\n",
      "2\t4\t6\t8\t10\t12\t\n",
      "\n",
      "3\t6\t9\t12\t15\t18\t\n",
      "\n",
      "4\t8\t12\t16\t20\t24\t\n",
      "\n",
      "5\t10\t15\t20\t25\t30\t\n",
      "\n",
      "6\t12\t18\t24\t30\t36\t\n",
      "\n",
      "\n",
      "\n",
      "1\t2\t3\t4\t5\t6\t7\t\n",
      "\n",
      "2\t4\t6\t8\t10\t12\t14\t\n",
      "\n",
      "3\t6\t9\t12\t15\t18\t21\t\n",
      "\n",
      "4\t8\t12\t16\t20\t24\t28\t\n",
      "\n",
      "5\t10\t15\t20\t25\t30\t35\t\n",
      "\n",
      "6\t12\t18\t24\t30\t36\t42\t\n",
      "\n",
      "7\t14\t21\t28\t35\t42\t49\t\n",
      "\n"
     ]
    }
   ],
   "source": [
    "# I interpreted this problem way wrong but I'm leaving my original solution\n",
    "# here anyway because it's cooler than theirs\n",
    "# (the real one is under this)\n",
    "\n",
    "for col in range(1, 7):\n",
    "    for row in range(1, 7):\n",
    "        print(col * row, end = \"\\t\")\n",
    "    print(\"\\n\")\n",
    "print(\"\\n\")\n",
    "\n",
    "for col in range(1, 8):\n",
    "    for row in range(1, 8):\n",
    "        print(col * row, end = \"\\t\")\n",
    "    print(\"\\n\")"
   ]
  },
  {
   "cell_type": "code",
   "execution_count": 40,
   "metadata": {},
   "outputs": [
    {
     "name": "stdout",
     "output_type": "stream",
     "text": [
      "6 * 1 = 6\n",
      "6 * 2 = 12\n",
      "6 * 3 = 18\n",
      "6 * 4 = 24\n",
      "6 * 5 = 30\n",
      "6 * 6 = 36\n",
      "6 * 7 = 42\n",
      "6 * 8 = 48\n",
      "6 * 9 = 54\n",
      "6 * 10 = 60\n",
      "6 * 11 = 66\n",
      "6 * 12 = 72\n",
      "\n",
      "7 * 1 = 7\n",
      "7 * 2 = 14\n",
      "7 * 3 = 21\n",
      "7 * 4 = 28\n",
      "7 * 5 = 35\n",
      "7 * 6 = 42\n",
      "7 * 7 = 49\n",
      "7 * 8 = 56\n",
      "7 * 9 = 63\n",
      "7 * 10 = 70\n",
      "7 * 11 = 77\n",
      "7 * 12 = 84\n"
     ]
    }
   ],
   "source": [
    "for factor in range(1,13): # AINT NOBODY START A MULTIPLICATION TABLE AT ZERO\n",
    "    print(f'6 * {factor} = {6 * factor}')\n",
    "\n",
    "print()\n",
    "\n",
    "for factor in range(1,13):\n",
    "    print(f'7 * {factor} = {7 * factor}')"
   ]
  },
  {
   "cell_type": "code",
   "execution_count": 41,
   "metadata": {},
   "outputs": [
    {
     "name": "stdout",
     "output_type": "stream",
     "text": [
      "['giraffe', 'gorilla', 'parrots']\n"
     ]
    }
   ],
   "source": [
    "animals = [\"lion\", \"giraffe\", \"gorilla\", \"parrots\", \"crocodile\", \"deer\", \"swan\"]\n",
    "sevenLetterAnimals = []\n",
    "\n",
    "animalIndex = 0\n",
    "while animalIndex < len(animals):\n",
    "    thisAnimal = animals[animalIndex]\n",
    "    if len(thisAnimal) == 7:\n",
    "        sevenLetterAnimals.append(thisAnimal)\n",
    "    animalIndex += 1\n",
    "\n",
    "print(sevenLetterAnimals)"
   ]
  },
  {
   "cell_type": "code",
   "execution_count": null,
   "metadata": {},
   "outputs": [],
   "source": []
  }
 ],
 "metadata": {
  "kernelspec": {
   "display_name": "Python 3",
   "language": "python",
   "name": "python3"
  },
  "language_info": {
   "codemirror_mode": {
    "name": "ipython",
    "version": 3
   },
   "file_extension": ".py",
   "mimetype": "text/x-python",
   "name": "python",
   "nbconvert_exporter": "python",
   "pygments_lexer": "ipython3",
   "version": "3.12.2"
  }
 },
 "nbformat": 4,
 "nbformat_minor": 2
}

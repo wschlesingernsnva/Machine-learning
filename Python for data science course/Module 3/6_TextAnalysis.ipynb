{
 "cells": [
  {
   "cell_type": "markdown",
   "metadata": {},
   "source": [
    "3.6: Text Analysis"
   ]
  },
  {
   "cell_type": "code",
   "execution_count": 9,
   "metadata": {},
   "outputs": [],
   "source": [
    "givenString = \"Lorem ipsum dolor! diam amet, consetetur Lorem magna. sed diam nonumy eirmod tempor. diam et labore? et diam magna. et diam amet.\""
   ]
  },
  {
   "cell_type": "code",
   "execution_count": 10,
   "metadata": {},
   "outputs": [],
   "source": [
    "class TextAnalyzer(object):\n",
    "    def __init__(self, text: str):\n",
    "        self.text = text.lower().replace(\".\",\"\").replace(\"!\",\"\").replace(\",\",\"\").replace(\"?\",\"\")\n",
    "    \n",
    "    def freqAll(self):\n",
    "        wordList = self.text.split()\n",
    "        freqDict = {}\n",
    "        for thisWord in wordList:\n",
    "            if thisWord in freqDict:\n",
    "                freqDict[thisWord] += 1\n",
    "            else:\n",
    "                freqDict[thisWord] = 1\n",
    "        return freqDict\n",
    "    \n",
    "    def freqOf(self, word: str):\n",
    "        freqDict = self.freqAll()\n",
    "        if word in freqDict:\n",
    "            return freqDict[word]\n",
    "        else:\n",
    "            return 0"
   ]
  },
  {
   "cell_type": "code",
   "execution_count": 11,
   "metadata": {},
   "outputs": [],
   "source": [
    "loremAnalyzer = TextAnalyzer(givenString)"
   ]
  },
  {
   "cell_type": "code",
   "execution_count": 12,
   "metadata": {},
   "outputs": [
    {
     "name": "stdout",
     "output_type": "stream",
     "text": [
      "lorem ipsum dolor diam amet consetetur lorem magna sed diam nonumy eirmod tempor diam et labore et diam magna et diam amet\n"
     ]
    }
   ],
   "source": [
    "print(loremAnalyzer.text) # it's already in lowercase--that was part of the instantiation"
   ]
  },
  {
   "cell_type": "code",
   "execution_count": 13,
   "metadata": {},
   "outputs": [
    {
     "name": "stdout",
     "output_type": "stream",
     "text": [
      "{'lorem': 2, 'ipsum': 1, 'dolor': 1, 'diam': 5, 'amet': 2, 'consetetur': 1, 'magna': 2, 'sed': 1, 'nonumy': 1, 'eirmod': 1, 'tempor': 1, 'et': 3, 'labore': 1}\n"
     ]
    }
   ],
   "source": [
    "print(loremAnalyzer.freqAll())"
   ]
  },
  {
   "cell_type": "code",
   "execution_count": 14,
   "metadata": {},
   "outputs": [
    {
     "name": "stdout",
     "output_type": "stream",
     "text": [
      "2\n"
     ]
    }
   ],
   "source": [
    "print(loremAnalyzer.freqOf(\"lorem\"))"
   ]
  }
 ],
 "metadata": {
  "kernelspec": {
   "display_name": "Python 3",
   "language": "python",
   "name": "python3"
  },
  "language_info": {
   "codemirror_mode": {
    "name": "ipython",
    "version": 3
   },
   "file_extension": ".py",
   "mimetype": "text/x-python",
   "name": "python",
   "nbconvert_exporter": "python",
   "pygments_lexer": "ipython3",
   "version": "3.12.2"
  }
 },
 "nbformat": 4,
 "nbformat_minor": 2
}

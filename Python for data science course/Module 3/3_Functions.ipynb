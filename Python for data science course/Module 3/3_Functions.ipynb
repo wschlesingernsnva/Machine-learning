{
 "cells": [
  {
   "cell_type": "markdown",
   "metadata": {},
   "source": [
    "3: Functions"
   ]
  },
  {
   "cell_type": "code",
   "execution_count": 1,
   "metadata": {},
   "outputs": [],
   "source": [
    "def divide(first, second):\n",
    "    return first / second"
   ]
  },
  {
   "cell_type": "code",
   "execution_count": 7,
   "metadata": {},
   "outputs": [],
   "source": [
    "def con(a, b):\n",
    "    return(a + b)"
   ]
  },
  {
   "cell_type": "code",
   "execution_count": 12,
   "metadata": {},
   "outputs": [
    {
     "name": "stdout",
     "output_type": "stream",
     "text": [
      "3\n",
      "abcdef\n",
      "[1, 2, 3, 'a', 2]\n",
      "('b', 'a', 2, 1, 2, 'a', 'c')\n"
     ]
    }
   ],
   "source": [
    "try:\n",
    "    print(con(1, 2))\n",
    "except:\n",
    "    print(\"cannot add\")\n",
    "\n",
    "try:\n",
    "    print(con(\"abc\", \"def\"))\n",
    "except:\n",
    "    print(\"cannot concatenate strings\")\n",
    "\n",
    "try:\n",
    "    print(con([1, 2, 3], [\"a\", 2]))\n",
    "except:\n",
    "    print(\"cannot concatenate lists\")\n",
    "\n",
    "try:\n",
    "    print(con((\"b\", \"a\", 2), (1, 2, \"a\", \"c\")))\n",
    "except:\n",
    "    print(\"cannot concatenate tuples\")"
   ]
  },
  {
   "cell_type": "markdown",
   "metadata": {},
   "source": [
    "Evidently, the con function can add integers and concatenate strings, lists, and tuples"
   ]
  },
  {
   "cell_type": "code",
   "execution_count": 2,
   "metadata": {},
   "outputs": [
    {
     "name": "stdout",
     "output_type": "stream",
     "text": [
      "3\n"
     ]
    }
   ],
   "source": [
    "# the problem, I think, with their approach here is that it only splits on whitespace--\n",
    "# which is fine for the specific instance of searching for \"little,\" but\n",
    "# isn't really...good...if something is at the end of a sentence, for example\n",
    "# so instead I did this by searching for the string, checking that it's a\n",
    "# standalone word, then searching for the next instance of the string until\n",
    "# hitting the end\n",
    "# (in hindsight, I think this could also be done with their method by using\n",
    "# regex to split it properly; something like:\n",
    "# https://stackoverflow.com/questions/35231285/python-how-to-split-a-string-by-non-alpha-characters\n",
    "# but you also wouldn't want to split on apostrophes)\n",
    "\n",
    "sampleStr = \"Mary had a little lamb Little lamb, little lamb Mary had a little lamb.Its fleece was white as snow And everywhere that Mary went Mary went, Mary went Everywhere that Mary went The lamb was sure to go\"\n",
    "\n",
    "def isWordChar(char: str):\n",
    "    return char.isalpha() or char == \"\\'\"\n",
    "\n",
    "def wordCount(substr: str, string: str):\n",
    "    count = 0\n",
    "    lastFoundPos = 0\n",
    "    while lastFoundPos <= len(string) - len(substr):\n",
    "        lastFoundPos = string.find(substr, lastFoundPos + 1)\n",
    "        if (lastFoundPos == -1):\n",
    "            break\n",
    "        else:\n",
    "            prevChar = string[lastFoundPos - 1]\n",
    "            nextChar = string[lastFoundPos + len(substr)]\n",
    "            if (not isWordChar(prevChar)) and (not isWordChar(nextChar)):\n",
    "                count += 1\n",
    "    return count\n",
    "\n",
    "print(wordCount(\"little\", sampleStr))"
   ]
  }
 ],
 "metadata": {
  "kernelspec": {
   "display_name": "Python 3",
   "language": "python",
   "name": "python3"
  },
  "language_info": {
   "codemirror_mode": {
    "name": "ipython",
    "version": 3
   },
   "file_extension": ".py",
   "mimetype": "text/x-python",
   "name": "python",
   "nbconvert_exporter": "python",
   "pygments_lexer": "ipython3",
   "version": "3.12.2"
  }
 },
 "nbformat": 4,
 "nbformat_minor": 2
}

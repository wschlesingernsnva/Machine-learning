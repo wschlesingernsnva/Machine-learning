{
 "cells": [
  {
   "cell_type": "markdown",
   "metadata": {},
   "source": [
    "4: Exception Handling"
   ]
  },
  {
   "cell_type": "code",
   "execution_count": 23,
   "metadata": {},
   "outputs": [
    {
     "name": "stdout",
     "output_type": "stream",
     "text": [
      "1.5\n",
      "Error: cannot divide by zero\n",
      "None\n"
     ]
    }
   ],
   "source": [
    "def safeDivide(numerator, denominator):\n",
    "    try:\n",
    "        return numerator / denominator\n",
    "    except ZeroDivisionError:\n",
    "        print(\"Error: cannot divide by zero\")\n",
    "        return None\n",
    "\n",
    "# Test\n",
    "print(safeDivide(3,2))\n",
    "print(safeDivide(1,0))"
   ]
  },
  {
   "cell_type": "code",
   "execution_count": 24,
   "metadata": {},
   "outputs": [
    {
     "name": "stdout",
     "output_type": "stream",
     "text": [
      "2.23606797749979\n",
      "Error: cannot take the square root of a negative number\n",
      "None\n"
     ]
    }
   ],
   "source": [
    "import math\n",
    "\n",
    "def safeSqrt(num):\n",
    "    try:\n",
    "        return math.sqrt(num)\n",
    "    except ValueError:\n",
    "        print(\"Error: cannot take the square root of a negative number\")\n",
    "\n",
    "# Test\n",
    "print(safeSqrt(5))\n",
    "print(safeSqrt(-4))"
   ]
  },
  {
   "cell_type": "code",
   "execution_count": 29,
   "metadata": {},
   "outputs": [
    {
     "name": "stdout",
     "output_type": "stream",
     "text": [
      "2.0\n",
      "An error occurred during calculation: division by zero\n"
     ]
    }
   ],
   "source": [
    "def complexMathematicalTask(num):\n",
    "    try:\n",
    "        result = num / (num - 5)\n",
    "        print(result)\n",
    "    except Exception as e:\n",
    "        print(f'An error occurred during calculation: {e}')\n",
    "\n",
    "# Test\n",
    "complexMathematicalTask(10)\n",
    "complexMathematicalTask(5)"
   ]
  }
 ],
 "metadata": {
  "kernelspec": {
   "display_name": "Python 3",
   "language": "python",
   "name": "python3"
  },
  "language_info": {
   "codemirror_mode": {
    "name": "ipython",
    "version": 3
   },
   "file_extension": ".py",
   "mimetype": "text/x-python",
   "name": "python",
   "nbconvert_exporter": "python",
   "pygments_lexer": "ipython3",
   "version": "3.12.2"
  }
 },
 "nbformat": 4,
 "nbformat_minor": 2
}

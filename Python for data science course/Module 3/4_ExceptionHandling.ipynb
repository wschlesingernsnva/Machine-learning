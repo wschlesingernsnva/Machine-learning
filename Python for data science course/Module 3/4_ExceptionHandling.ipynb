{
 "cells": [
  {
   "cell_type": "markdown",
   "metadata": {},
   "source": [
    "4: Exception Handling"
   ]
  },
  {
   "cell_type": "code",
   "execution_count": 38,
   "metadata": {},
   "outputs": [],
   "source": [
    "# Recursively prompt the user for a float, repeating if the user enters an invalid value\n",
    "def promptFloat(prompt: str) -> float:\n",
    "    res = input(prompt)\n",
    "    resValid = True\n",
    "\n",
    "    firstDecimal = res.find(\".\")\n",
    "    if firstDecimal != -1 and res.find(\".\", firstDecimal + 1) != -1:\n",
    "        return promptFloat(prompt)\n",
    "    \n",
    "    if not (res[0].isdigit() or res[0] == \".\" or res[0] == \"-\"):\n",
    "        return promptFloat(prompt)\n",
    "        \n",
    "    for thisChar in res[1:]:\n",
    "        if not (thisChar.isdigit() or thisChar == \".\"):\n",
    "            return promptFloat(prompt)\n",
    "    \n",
    "    return float(res)"
   ]
  },
  {
   "cell_type": "code",
   "execution_count": 39,
   "metadata": {},
   "outputs": [
    {
     "name": "stdout",
     "output_type": "stream",
     "text": [
      "Error: cannot divide by zero\n",
      "None\n"
     ]
    }
   ],
   "source": [
    "def safeDivide(numerator, denominator):\n",
    "    try:\n",
    "        return numerator / denominator\n",
    "    except ZeroDivisionError:\n",
    "        print(\"Error: cannot divide by zero\")\n",
    "        return None\n",
    "        \n",
    "\n",
    "# Test\n",
    "numerator = promptFloat(\"Numerator: \")\n",
    "denominator = promptFloat(\"Denominator: \")\n",
    "\n",
    "print(safeDivide(numerator,denominator))"
   ]
  },
  {
   "cell_type": "code",
   "execution_count": 42,
   "metadata": {},
   "outputs": [
    {
     "name": "stdout",
     "output_type": "stream",
     "text": [
      "Error: cannot take the square root of a negative number\n",
      "None\n"
     ]
    }
   ],
   "source": [
    "import math\n",
    "\n",
    "def safeSqrt(num):\n",
    "    try:\n",
    "        return math.sqrt(num)\n",
    "    except ValueError:\n",
    "        print(\"Error: cannot take the square root of a negative number\")\n",
    "\n",
    "# Test\n",
    "base = promptFloat(\"Base: \")\n",
    "print(safeSqrt(base))"
   ]
  },
  {
   "cell_type": "code",
   "execution_count": 44,
   "metadata": {},
   "outputs": [
    {
     "name": "stdout",
     "output_type": "stream",
     "text": [
      "An error occurred during calculation: float division by zero\n"
     ]
    }
   ],
   "source": [
    "def complexMathematicalTask(num):\n",
    "    try:\n",
    "        result = num / (num - 5)\n",
    "        print(result)\n",
    "    except Exception as e:\n",
    "        print(f'An error occurred during calculation: {e}')\n",
    "\n",
    "# Test\n",
    "inputNum = promptFloat(\"Input: \")\n",
    "complexMathematicalTask(inputNum)"
   ]
  }
 ],
 "metadata": {
  "kernelspec": {
   "display_name": "Python 3",
   "language": "python",
   "name": "python3"
  },
  "language_info": {
   "codemirror_mode": {
    "name": "ipython",
    "version": 3
   },
   "file_extension": ".py",
   "mimetype": "text/x-python",
   "name": "python",
   "nbconvert_exporter": "python",
   "pygments_lexer": "ipython3",
   "version": "3.12.2"
  }
 },
 "nbformat": 4,
 "nbformat_minor": 2
}
